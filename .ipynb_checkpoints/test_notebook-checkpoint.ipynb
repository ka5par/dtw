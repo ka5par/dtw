{
 "cells": [
  {
   "cell_type": "markdown",
   "metadata": {},
   "source": [
    "Data:\n",
    "\n",
    "1) Get a list of SP500 companies\n",
    "2) Install SP500 timeseries (hourly) for the past 260 trading days.\n",
    "3) Connect to spotify API for "
   ]
  },
  {
   "cell_type": "code",
   "execution_count": 4,
   "metadata": {},
   "outputs": [],
   "source": [
    "#https://medium.com/wealthy-bytes/5-lines-of-python-to-automate-getting-the-s-p-500-95a632e5e567\n",
    "import pandas as pd\n",
    "\n",
    "table=pd.read_html('https://en.wikipedia.org/wiki/List_of_S%26P_500_companies')\n",
    "\n",
    "df = table[0]\n",
    "symbols = df['Symbol']"
   ]
  },
  {
   "cell_type": "code",
   "execution_count": 8,
   "metadata": {
    "scrolled": false
   },
   "outputs": [
    {
     "data": {
      "text/plain": [
       "0     MMM\n",
       "1     ABT\n",
       "2    ABBV\n",
       "3    ABMD\n",
       "4     ACN\n",
       "Name: Symbol, dtype: object"
      ]
     },
     "execution_count": 8,
     "metadata": {},
     "output_type": "execute_result"
    }
   ],
   "source": [
    "symbols.head()"
   ]
  },
  {
   "cell_type": "code",
   "execution_count": 3,
   "metadata": {
    "scrolled": true
   },
   "outputs": [
    {
     "name": "stdout",
     "output_type": "stream",
     "text": [
      "Collecting quandl\n",
      "  Downloading Quandl-3.5.3-py2.py3-none-any.whl (25 kB)\n",
      "Requirement already satisfied: requests>=2.7.0 in /home/karl/anaconda3/lib/python3.8/site-packages (from quandl) (2.24.0)\n",
      "Requirement already satisfied: more-itertools in /home/karl/anaconda3/lib/python3.8/site-packages (from quandl) (8.6.0)\n",
      "Requirement already satisfied: pandas>=0.14 in /home/karl/anaconda3/lib/python3.8/site-packages (from quandl) (1.1.3)\n",
      "Collecting inflection>=0.3.1\n",
      "  Downloading inflection-0.5.1-py2.py3-none-any.whl (9.5 kB)\n",
      "Requirement already satisfied: numpy>=1.8 in /home/karl/anaconda3/lib/python3.8/site-packages (from quandl) (1.19.2)\n",
      "Requirement already satisfied: python-dateutil in /home/karl/anaconda3/lib/python3.8/site-packages (from quandl) (2.8.1)\n",
      "Requirement already satisfied: six in /home/karl/anaconda3/lib/python3.8/site-packages (from quandl) (1.15.0)\n",
      "Requirement already satisfied: urllib3!=1.25.0,!=1.25.1,<1.26,>=1.21.1 in /home/karl/anaconda3/lib/python3.8/site-packages (from requests>=2.7.0->quandl) (1.25.11)\n",
      "Requirement already satisfied: idna<3,>=2.5 in /home/karl/anaconda3/lib/python3.8/site-packages (from requests>=2.7.0->quandl) (2.10)\n",
      "Requirement already satisfied: chardet<4,>=3.0.2 in /home/karl/anaconda3/lib/python3.8/site-packages (from requests>=2.7.0->quandl) (3.0.4)\n",
      "Requirement already satisfied: certifi>=2017.4.17 in /home/karl/anaconda3/lib/python3.8/site-packages (from requests>=2.7.0->quandl) (2020.6.20)\n",
      "Requirement already satisfied: pytz>=2017.2 in /home/karl/anaconda3/lib/python3.8/site-packages (from pandas>=0.14->quandl) (2020.1)\n",
      "Installing collected packages: inflection, quandl\n",
      "Successfully installed inflection-0.5.1 quandl-3.5.3\n"
     ]
    }
   ],
   "source": [
    "import quandl \n",
    "\n"
   ]
  },
  {
   "cell_type": "code",
   "execution_count": null,
   "metadata": {
    "scrolled": true
   },
   "outputs": [],
   "source": [
    "#https://pythonprogramming.net/sp500-company-price-data-python-programming-for-finance/\n",
    "#https://stackoverflow.com/questions/54854276/no-data-fetched-web-datareader-panda\n",
    "\n",
    "import bs4 as bs\n",
    "import datetime as dt\n",
    "import os\n",
    "import pandas_datareader.data as web\n",
    "import pickle\n",
    "import requests\n",
    "\n",
    "def try_or(func, default=None, expected_exc=(Exception,)):\n",
    "    try:\n",
    "        return func()\n",
    "    except expected_exc:\n",
    "        return default\n",
    "    \n",
    "def save_sp500_tickers():\n",
    "    resp = requests.get('http://en.wikipedia.org/wiki/List_of_S%26P_500_companies')\n",
    "    soup = bs.BeautifulSoup(resp.text, 'lxml')\n",
    "    table = soup.find('table', {'class': 'wikitable sortable'})\n",
    "    tickers = []\n",
    "    for row in table.findAll('tr')[1:]: \n",
    "        ticker = row.findAll('td')[0].text\n",
    "        ticker = ticker[:-1]\n",
    "        tickers.append(ticker)\n",
    "    with open(\"sp500tickers.pickle\", \"wb\") as f:\n",
    "        pickle.dump(tickers, f)\n",
    "    return tickers\n",
    "\n",
    "\n",
    "# save_sp500_tickers()\n",
    "def get_data_from_yahoo(reload_sp500=False):\n",
    "    if reload_sp500:\n",
    "        tickers = save_sp500_tickers()\n",
    "    else:\n",
    "        with open(\"sp500tickers.pickle\", \"rb\") as f:\n",
    "            tickers = pickle.load(f)\n",
    "    if not os.path.exists('stock_dfs'):\n",
    "        os.makedirs('stock_dfs')\n",
    "    start = dt.datetime(2019, 6, 8)\n",
    "    end = dt.datetime.now()\n",
    "    for ticker in tickers:\n",
    "        if not os.path.exists('stock_dfs/{}.csv'.format(ticker)):\n",
    "            try:\n",
    "                df = web.get_data_yahoo(ticker, start, end)\n",
    "                df.reset_index(inplace=True)\n",
    "                df.set_index(\"Date\", inplace=True)\n",
    "                df.to_csv('stock_dfs/{}.csv'.format(ticker))\n",
    "                print(ticker)\n",
    "            except:\n",
    "                print(\"ERROR:\", ticker)\n",
    "        else:\n",
    "            print('Already have {}'.format(ticker))\n",
    "\n",
    "get_data_from_yahoo(TRUE)"
   ]
  }
 ],
 "metadata": {
  "kernelspec": {
   "display_name": "Python 3",
   "language": "python",
   "name": "python3"
  },
  "language_info": {
   "codemirror_mode": {
    "name": "ipython",
    "version": 3
   },
   "file_extension": ".py",
   "mimetype": "text/x-python",
   "name": "python",
   "nbconvert_exporter": "python",
   "pygments_lexer": "ipython3",
   "version": "3.8.5"
  }
 },
 "nbformat": 4,
 "nbformat_minor": 4
}
